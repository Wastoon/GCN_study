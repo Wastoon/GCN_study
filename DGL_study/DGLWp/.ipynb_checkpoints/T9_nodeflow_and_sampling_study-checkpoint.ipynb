{
 "cells": [
  {
   "cell_type": "code",
   "execution_count": null,
   "metadata": {},
   "outputs": [],
   "source": [
    "'''\n",
    "    @title: NodeFlow and Sampling\n",
    "    @name: King\n",
    "    @url: \n",
    "        1、https://docs.dgl.ai/tutorials/models/5_giant_graph/1_sampling_mx.html\n",
    "        2、https://archwalker.github.io/blog/2019/07/07/GNN-Framework-DGL-NodeFlow.html\n",
    "    @decs: GraphSAGE\n",
    "    \n",
    "\n",
    "'''"
   ]
  }
 ],
 "metadata": {
  "kernelspec": {
   "display_name": "Python 3",
   "language": "python",
   "name": "python3"
  },
  "language_info": {
   "codemirror_mode": {
    "name": "ipython",
    "version": 3
   },
   "file_extension": ".py",
   "mimetype": "text/x-python",
   "name": "python",
   "nbconvert_exporter": "python",
   "pygments_lexer": "ipython3",
   "version": "3.6.3"
  }
 },
 "nbformat": 4,
 "nbformat_minor": 2
}
